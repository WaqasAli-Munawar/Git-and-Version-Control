{
 "cells": [
  {
   "cell_type": "markdown",
   "metadata": {},
   "source": [
    "When we're working on a team, everyone will generally be making changes to the same files. Imagine we're working on a project to write a Python script, and have a folder with the following two files:\n",
    "\n",
    "1. script.py\n",
    "2. README.md"
   ]
  },
  {
   "cell_type": "raw",
   "metadata": {},
   "source": [
    "Here are the contents of script.py:\n",
    "\n",
    "if __name__ == \"__main__\":\n",
    "    print(\"Welcome to a script!\")"
   ]
  },
  {
   "cell_type": "raw",
   "metadata": {},
   "source": [
    "Imagine that a coworker and I are both working on the project at the same time. I modify script.py like this:\n",
    "\n",
    "if __name__ == \"__main__\":\n",
    "    print(\"Welcome to a script!\")\n",
    "    print(\"Here's my amazing contribution to this project!\")"
   ]
  },
  {
   "cell_type": "raw",
   "metadata": {},
   "source": [
    "And our coworker does this:\n",
    "\n",
    "import math\n",
    "print(10 + 10)\n",
    "if __name__ == \"__main__\":\n",
    "    print(\"Welcome to a script!\")"
   ]
  },
  {
   "cell_type": "markdown",
   "metadata": {},
   "source": [
    "Imagine that we both have the folder on our local machine. To modify files, we make changes, then upload the entire folder to a centralized location like Dropbox or Google Drive to enable collaboration. If we didn't have a distributed version control system, whoever changed the file last would overwrite the changes of the other person.\n",
    "\n",
    "This approach becomes extremely frustrating and impossible to manage as we start dealing with larger and larger chunks of code. What if the folder had 100 files, I modified 10 of them, and my coworker modified 30 at the same time? I don't want to lose my changes every time my coworker uploads his version of the folder. Now, imagine that instead of just a coworker and I, it's a project with 10 or 100 contributors.\n",
    "\n",
    "Companies face this problem every day, which is why distributed **version control** systems exist. These systems will \"merge\" changes together intelligently, enabling multiple developers to work on a project at the same time."
   ]
  },
  {
   "cell_type": "raw",
   "metadata": {},
   "source": [
    "Going back to the script.py file, if we intelligently merged the two versions, the end result would look like this:\n",
    "\n",
    "import math\n",
    "print(10 + 10)\n",
    "if __name__ == \"__main__\":\n",
    "    print(\"Welcome to a script!\")\n",
    "    print(\"Here's my amazing contribution to this project!\")"
   ]
  },
  {
   "cell_type": "markdown",
   "metadata": {},
   "source": [
    "There are a few distributed version control systems, including [Mercurial](https://www.mercurial-scm.org/) and [Bazzar](https://bazaar.canonical.com/en/). [Git](https://git-scm.com/) is by far the most popular, however.\n",
    "\n",
    "Git is a command-line tool we can access by typing **git** in the shell. The first step in using Git is to initialize a folder as a [repository](https://git-scm.com/book/en/v2/Git-Basics-Getting-a-Git-Repository). A repository (or \"repo\") tracks multiple versions of the files in the folder, enabling collaboration.\n",
    "\n",
    "We can initialize a repository by typing **git init** inside the folder we want to use for our project."
   ]
  },
  {
   "cell_type": "markdown",
   "metadata": {},
   "source": [
    "**Task:**\n",
    "    \n",
    "* Create a folder named random_numbers.\n",
    "* Navigate into this folder and initialize a Git repository.\n",
    "\n",
    "**Answer:**\n",
    "\n",
    "* mkdir random_numbers\n",
    "* cd random_numbers\n",
    "* git init"
   ]
  },
  {
   "cell_type": "markdown",
   "metadata": {},
   "source": [
    "Initializing a Git repository will create a folder called **.git** inside the repository folder. That means there should now be a folder named .git inside of our random_numbers folder. Files and folders with a period prefix (.) are typically private, and don't show up by default when we list the files in a folder.\n",
    "\n",
    "Let's verify that the file is there with **ls -al**. As we may recall, the -a flag will show everything in a folder, even if it starts with a period."
   ]
  },
  {
   "cell_type": "markdown",
   "metadata": {},
   "source": [
    "The typical Git workflow involves adding files, making changes, and then storing a checkpoint (or \"snapshot\") of those changes. These checkpoints are called commits.\n",
    "\n",
    "Instead of storing every file in every commit, Git stores the diff, or the things that change between commits.\n",
    "\n",
    "For example, imagine that we created a file called README.md with this content:\n",
    "\n",
    "**Welcome to my readme!**\n",
    "\n",
    "When we commit it, Git would store the file. Let's say we added another line to the file later on and made another commit:\n",
    "\n",
    "**Welcome to my readme!\n",
    "Here's another line**   \n",
    "\n",
    "Git would only store the part of the file that changed since the last commit, which is Here's another line.\n",
    "\n",
    "Every project is a sequence of commits. Commits give us a powerful way to merge the changes of multiple team members together. We can even restore the repository to an earlier checkpoint, or moment in time.\n",
    "\n",
    "Before we make a commit, let's add some files to our folder."
   ]
  },
  {
   "cell_type": "markdown",
   "metadata": {},
   "source": [
    "**Task:**\n",
    "\n",
    "Create a file named README.md with the following content:\n",
    "\n",
    "Random number generator\n",
    "\n",
    "Create a file named script.py with this content:\n",
    "\n",
    "if `__`name`__` == \"`__`main`__`\":\n",
    "\n",
    "    print(\"10\")\n",
    "   "
   ]
  },
  {
   "cell_type": "markdown",
   "metadata": {},
   "source": [
    "**Answer:**\n",
    "    \n",
    "1. echo -e \"Random number generator\" > README.md\n",
    "2. echo -e 'if `__`name`__` == \"`__`main`__`\":\\n    print(\"10\")' > script.py"
   ]
  },
  {
   "cell_type": "markdown",
   "metadata": {},
   "source": [
    "Files can have one of three states in Git:\n",
    "\n",
    "* **committed** - The current version of the file has been added to a commit, and Git has stored it.\n",
    "* **staged** - The file has been marked for inclusion in the next commit, but hasn't been committed yet (and Git hasn't stored it yet). We might stage one file before working on a second file, for example, then commit both files at the same time when we're done.\n",
    "* **modified** - The file has been modified since the last commit, but isn't staged yet."
   ]
  },
  {
   "cell_type": "markdown",
   "metadata": {},
   "source": [
    "After we make changes to a Git repository, we can run the git status command to check the state of each file within it. Any files that don't show up in git status are in the committed state (i.e., don't have unsaved changes).\n",
    "\n",
    "Git will automatically show us which files have been modified since the last commit. If we're ready to commit the files we've modified, we can add them to the staging area using **git add**. Typing git add script.py will add script.py to the staging area, where it will be staged for the next commit."
   ]
  },
  {
   "cell_type": "markdown",
   "metadata": {},
   "source": [
    "Task:\n",
    "    \n",
    "* Check the status of the repo.\n",
    "* Add script.py to the staging area.\n",
    "* Add README.md to the staging area.\n",
    "\n",
    "Answer\n",
    "\n",
    "* git status\n",
    "* git add script.py\n",
    "* git add README.md"
   ]
  },
  {
   "cell_type": "markdown",
   "metadata": {},
   "source": [
    "Before we can make our first commit, we need to tell Git who we are so it can store that information along with the commit. This step ensures that all of the members on a team can tell who made a certain commit.\n",
    "\n",
    "We can do this by running git config. We only need to run this command once per computer, because Git will save the information.\n",
    "\n",
    "Git needs two pieces of information about us -- our email address and our name. We can configure our email with:\n",
    "\n",
    "**git config --global user.email \"our.email@domain.com\"**\n",
    "\n",
    "We can configure our name with:\n",
    "\n",
    "**git config --global user.name \"our name\"**"
   ]
  },
  {
   "cell_type": "markdown",
   "metadata": {},
   "source": [
    "Now that we've staged some files, we can make our first commit. A commit stores a snapshot of the files in the repository at a certain point in time. By building a history of these snapshots, we can rewind to an earlier point in time, or merge someone else's changes with our own.\n",
    "\n",
    "To make a commit, we use \n",
    "\n",
    "**git commit -m \"Commit message here\"**. \n",
    "\n",
    "The -m flag indicates that we're adding a message, and the text in quotes that comes after it is the commit message itself. It's customary to make the commit message something informative, so if we do have to rewind or merge code, it's obvious what changes we made and when."
   ]
  },
  {
   "cell_type": "markdown",
   "metadata": {},
   "source": [
    "**Task**\n",
    "\n",
    "Type git commit -m \"Initial commit. Added script.py and README.md\" to make the first commit to the repository with an informative message.\n",
    "\n",
    "**Answer**\n",
    "\n",
    "git commit -m \"Initial commit.  Added script.py and README.md\""
   ]
  },
  {
   "cell_type": "markdown",
   "metadata": {},
   "source": [
    "Let's modify our files and make another commit to see how the process works. Before we place a file in the staging area, we can use **git diff** to see all of the line differences between the current and previous version. We can scroll up and down with the arrow keys, and exit git diff with the q key. If we want to see the differences after we stage a file, we can use **git diff --staged**."
   ]
  },
  {
   "cell_type": "markdown",
   "metadata": {},
   "source": [
    "**Task**\n",
    "\n",
    "script.py isn't exactly a random number generator right now.\n",
    "\n",
    "1. Modify it so that it prints a random integer from 0 to 10. We can import and use random.randint for  his.\n",
    "\n",
    "2. Afterwards, type git diff to see how Git is tracking modifications.\n",
    "\n",
    "3. Finally, type git status to see the status of the file you modified.\n",
    "\n",
    "**Answer**\n",
    "\n",
    "1. echo -e 'import random\\nif __name__ == \"__main__\":\\n    print(random.randint(0,10))' > script.py\n",
    "2. git status"
   ]
  },
  {
   "cell_type": "markdown",
   "metadata": {},
   "source": [
    "Now that we've modified a file, we can add the changes to the staging area using git add script.py, and then commit them using git commit."
   ]
  },
  {
   "cell_type": "markdown",
   "metadata": {},
   "source": [
    "**Task:**\n",
    "\n",
    "Add the script.py file to the staging area, then make a new commit with an informative message.\n",
    "\n",
    "**Answer:**\n",
    "\n",
    "1. git add script.py\n",
    "2. git commit -m \"Made the numbers random\""
   ]
  },
  {
   "cell_type": "markdown",
   "metadata": {},
   "source": [
    "We can pull up a repository's commit history using the **git log** command. This command will show us a list of all of the commits to the repository, in descending order by creation date. If the output is very long, it will allow us to scroll. We can scroll through the log with the up and down arrows, and use the q key to exit.\n",
    "\n",
    "We can use **git log --stat** to see more details about the commits in the git log output."
   ]
  },
  {
   "cell_type": "code",
   "execution_count": null,
   "metadata": {},
   "outputs": [],
   "source": []
  }
 ],
 "metadata": {
  "kernelspec": {
   "display_name": "Python 3",
   "language": "python",
   "name": "python3"
  },
  "language_info": {
   "codemirror_mode": {
    "name": "ipython",
    "version": 3
   },
   "file_extension": ".py",
   "mimetype": "text/x-python",
   "name": "python",
   "nbconvert_exporter": "python",
   "pygments_lexer": "ipython3",
   "version": "3.7.3"
  }
 },
 "nbformat": 4,
 "nbformat_minor": 2
}
